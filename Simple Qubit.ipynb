{
 "cells": [
  {
   "cell_type": "code",
   "execution_count": 2,
   "metadata": {},
   "outputs": [],
   "source": [
    "import numpy as np\n",
    "import matplotlib.pyplot as plt\n",
    "import scipy.linalg as la"
   ]
  },
  {
   "cell_type": "markdown",
   "metadata": {},
   "source": [
    "Very simple function to simulate a single qubit gate:\n",
    "\n",
    "It simulates a qubti with frequency `hidden_freq` and susceptibility to `driving hidden_g`.\n",
    "parameters of the drive:\n",
    "\n",
    "`frequency`: frequency of the pulse applied to the qubit. ideally same as `hidden_freq`\n",
    "\n",
    "`amplitude`: how strongly it is driven. typically 1e-3 or something like that\n",
    "\n",
    "`time`: how long the time is applied. for `amplitude*time = 0.5` it flips the spin \n",
    "\n",
    "`number_of_tries`: how often the experiment is run. can be 100s to 1000s of times. if `number_of_tries=0` it returns the actual probablity."
   ]
  },
  {
   "cell_type": "code",
   "execution_count": 3,
   "metadata": {},
   "outputs": [],
   "source": [
    "def simple_pulse(frequency, amplitude, time, number_of_tries, hidden_freq=5, hidden_g=1):\n",
    "    #initialize system\n",
    "    rho = [[1,0],[0,0]]\n",
    "    detuning = 2*np.pi*(frequency - hidden_freq)\n",
    "    rabi_frequency = np.pi*amplitude*hidden_g\n",
    "    \n",
    "    # apply pulse\n",
    "    pulse_hamiltonian = rabi_frequency*np.matrix([[0,1],[1,0]])+detuning/2*np.matrix([[1,0],[0,-1]])\n",
    "    evolution = la.expm(1j*pulse_hamiltonian*time)\n",
    "    \n",
    "    #final_state = evolution.dot([[1],[0]])\n",
    "    probability_1 = np.abs(evolution.item(0))**2\n",
    "    if number_of_tries == 0:\n",
    "        return np.array(probability_1)\n",
    "    else:\n",
    "        number_of_tries = np.round(number_of_tries)\n",
    "        return np.random.binomial(number_of_tries,probability_1)/number_of_tries"
   ]
  },
  {
   "cell_type": "code",
   "execution_count": 6,
   "metadata": {},
   "outputs": [
    {
     "data": {
      "text/plain": [
       "array(2.25401366e-32)"
      ]
     },
     "execution_count": 6,
     "metadata": {},
     "output_type": "execute_result"
    }
   ],
   "source": [
    "simple_pulse(5, 1e-2, 50, 0)"
   ]
  }
 ],
 "metadata": {
  "kernelspec": {
   "display_name": "Python 3",
   "language": "python",
   "name": "python3"
  },
  "language_info": {
   "codemirror_mode": {
    "name": "ipython",
    "version": 3
   },
   "file_extension": ".py",
   "mimetype": "text/x-python",
   "name": "python",
   "nbconvert_exporter": "python",
   "pygments_lexer": "ipython3",
   "version": "3.7.0"
  }
 },
 "nbformat": 4,
 "nbformat_minor": 2
}
